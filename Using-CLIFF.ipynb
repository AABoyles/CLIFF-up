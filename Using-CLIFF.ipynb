{
 "metadata": {
  "name": ""
 },
 "nbformat": 3,
 "nbformat_minor": 0,
 "worksheets": [
  {
   "cells": [
    {
     "cell_type": "heading",
     "level": 1,
     "metadata": {},
     "source": [
      "Easy Automated Geocoding of Text with CLIFF-up"
     ]
    },
    {
     "cell_type": "markdown",
     "metadata": {},
     "source": [
      "**By [Andy Halterman](http://www.andrewhalterman.com)**.\n",
      "November 22, 2014"
     ]
    },
    {
     "cell_type": "markdown",
     "metadata": {},
     "source": [
      "MIT's [CLIFF](http://cliff.mediameter.org/) is a piece of software for extracting geolocation data from text, bundled into a server that can be accessed via API calls. I've bundled CLIFF into a Vagrant virtual machine for people (like me) who aren't thrilled about learning how to set up Tomcat servers and get Java configurations right. See my [CLIFF-up repo on Github](https://github.com/ahalterman/CLIFF-up) for the code to get CLIFF running easily inside a Vagrant virtual machine. Follow the instructions there to get CLIFF-up and then come back here for a walkthough of how to use CLIFF once it's running.\n",
      "\n",
      "CLIFF is built on a number of free and open source projects, including Berico Technologies' [CLAVIN](https://github.com/Berico-Technologies/CLAVIN) geoparsing software, Stanford's [CoreNLP](http://nlp.stanford.edu/software/corenlp.shtml) natural language software, and [Geonames.org](http://www.geonames.org/)'s free gazetteer of place names and coordinates."
     ]
    },
    {
     "cell_type": "markdown",
     "metadata": {},
     "source": [
      "You only need two modules to work with CLIFF in this example, including the excellent `requests` module."
     ]
    },
    {
     "cell_type": "code",
     "collapsed": false,
     "input": [
      "import requests\n",
      "import json"
     ],
     "language": "python",
     "metadata": {},
     "outputs": [],
     "prompt_number": 4
    },
    {
     "cell_type": "markdown",
     "metadata": {},
     "source": [
      "Give it a sentence you're interested in geolocating. (From the [New York Times](http://www.nytimes.com/2014/11/15/world/europe/sweden-confirms-mystery-vessel-in-its-waters-was-a-foreign-submarine.html?_r=0)):"
     ]
    },
    {
     "cell_type": "code",
     "collapsed": false,
     "input": [
      "sentence = \"In Sweden, the episode brought back memories of another incident in 1981, when Sweden discovered that a Soviet submarine had run aground off Swedish shores at Karlskrona in the south of the country.\"\n",
      "\n",
      "print sentence"
     ],
     "language": "python",
     "metadata": {},
     "outputs": [
      {
       "output_type": "stream",
       "stream": "stdout",
       "text": [
        "In Sweden, the episode brought back memories of another incident in 1981, when Sweden discovered that a Soviet submarine had run aground off Swedish shores at Karlskrona in the south of the country.\n"
       ]
      }
     ],
     "prompt_number": 5
    },
    {
     "cell_type": "markdown",
     "metadata": {},
     "source": [
      "CLIFF's API expects data passed to it in the form of an HTTP GET request. The `requests` module makes it very easy to do this. We construct a payload, comprised of the variable that CLIFF expects (\"p\") and the sentence we want parsed. We can then send it as a GET request to the port where CLIFF is listening, which is 8999 if you're using the Vagrantfile I have on my Github to get it running."
     ]
    },
    {
     "cell_type": "code",
     "collapsed": false,
     "input": [
      "payload = {\"q\":sentence}\n",
      "located = requests.get(\"http://localhost:8999/CLIFF-2.0.0/parse/text\", params=payload)"
     ],
     "language": "python",
     "metadata": {},
     "outputs": [],
     "prompt_number": 6
    },
    {
     "cell_type": "markdown",
     "metadata": {},
     "source": [
      "We convert the resulting data into a dictionary, and then we can start to look at its components."
     ]
    },
    {
     "cell_type": "code",
     "collapsed": false,
     "input": [
      "t = located.json()\n",
      "t"
     ],
     "language": "python",
     "metadata": {},
     "outputs": [
      {
       "metadata": {},
       "output_type": "pyout",
       "prompt_number": 7,
       "text": [
        "{u'milliseconds': 16,\n",
        " u'results': {u'organizations': [],\n",
        "  u'people': [],\n",
        "  u'places': {u'focus': {u'cities': [{u'countryCode': u'SE',\n",
        "      u'featureClass': u'P',\n",
        "      u'featureCode': u'PPLA',\n",
        "      u'id': 2701713,\n",
        "      u'lat': 56.16156,\n",
        "      u'lon': 15.58661,\n",
        "      u'name': u'Karlskrona',\n",
        "      u'population': 32309,\n",
        "      u'score': 1,\n",
        "      u'stateCode': u'02'}],\n",
        "    u'countries': [{u'countryCode': u'SE',\n",
        "      u'featureClass': u'A',\n",
        "      u'featureCode': u'PCLI',\n",
        "      u'id': 2661886,\n",
        "      u'lat': 62.0,\n",
        "      u'lon': 15.0,\n",
        "      u'name': u'Kingdom of Sweden',\n",
        "      u'population': 9555893,\n",
        "      u'score': 3,\n",
        "      u'stateCode': u'00'}],\n",
        "    u'states': [{u'countryCode': u'SE',\n",
        "      u'featureClass': u'A',\n",
        "      u'featureCode': u'ADM1',\n",
        "      u'id': 2721357,\n",
        "      u'lat': 56.33333,\n",
        "      u'lon': 15.33333,\n",
        "      u'name': u'Blekinge',\n",
        "      u'population': 152315,\n",
        "      u'score': 1,\n",
        "      u'stateCode': u'02'}]},\n",
        "   u'mentions': [{u'confidence': 1.0,\n",
        "     u'countryCode': u'SE',\n",
        "     u'featureClass': u'A',\n",
        "     u'featureCode': u'PCLI',\n",
        "     u'id': 2661886,\n",
        "     u'lat': 62.0,\n",
        "     u'lon': 15.0,\n",
        "     u'name': u'Kingdom of Sweden',\n",
        "     u'population': 9555893,\n",
        "     u'source': {u'charIndex': 3, u'string': u'Sweden'},\n",
        "     u'stateCode': u'00'},\n",
        "    {u'confidence': 1.0,\n",
        "     u'countryCode': u'SE',\n",
        "     u'featureClass': u'A',\n",
        "     u'featureCode': u'PCLI',\n",
        "     u'id': 2661886,\n",
        "     u'lat': 62.0,\n",
        "     u'lon': 15.0,\n",
        "     u'name': u'Kingdom of Sweden',\n",
        "     u'population': 9555893,\n",
        "     u'source': {u'charIndex': 79, u'string': u'Sweden'},\n",
        "     u'stateCode': u'00'},\n",
        "    {u'confidence': 1.0,\n",
        "     u'countryCode': u'SE',\n",
        "     u'featureClass': u'P',\n",
        "     u'featureCode': u'PPLA',\n",
        "     u'id': 2701713,\n",
        "     u'lat': 56.16156,\n",
        "     u'lon': 15.58661,\n",
        "     u'name': u'Karlskrona',\n",
        "     u'population': 32309,\n",
        "     u'source': {u'charIndex': 159, u'string': u'Karlskrona'},\n",
        "     u'stateCode': u'02'}]}},\n",
        " u'status': u'ok',\n",
        " u'version': u'2.0.0'}"
       ]
      }
     ],
     "prompt_number": 7
    },
    {
     "cell_type": "markdown",
     "metadata": {},
     "source": [
      "You'll see that it returns some data about the query (time elapsed, status, version), a list of organizations mentioned, a list of people, and the places in the story. Once of CLIFF's big selling points is that it distinguishes between \"focus\" places\u2013the location the text is really about, and \"mention\" places that appear peripherally in the text. You'll also notice that it's fast: 52 milliseconds, which is the return on the long Lucene index building process when you did `vagrant up`.\n",
      "\n",
      "We can cut the results down to just the \"focus\" places, which is presumably what we're interested in."
     ]
    },
    {
     "cell_type": "code",
     "collapsed": false,
     "input": [
      "t['results']['places']['focus']"
     ],
     "language": "python",
     "metadata": {},
     "outputs": [
      {
       "metadata": {},
       "output_type": "pyout",
       "prompt_number": 24,
       "text": [
        "{u'cities': [{u'countryCode': u'SE',\n",
        "   u'featureClass': u'P',\n",
        "   u'featureCode': u'PPLA',\n",
        "   u'id': 2701713,\n",
        "   u'lat': 56.16156,\n",
        "   u'lon': 15.58661,\n",
        "   u'name': u'Karlskrona',\n",
        "   u'population': 32309,\n",
        "   u'score': 1,\n",
        "   u'stateCode': u'02'}],\n",
        " u'countries': [{u'countryCode': u'SE',\n",
        "   u'featureClass': u'A',\n",
        "   u'featureCode': u'PCLI',\n",
        "   u'id': 2661886,\n",
        "   u'lat': 62.0,\n",
        "   u'lon': 15.0,\n",
        "   u'name': u'Kingdom of Sweden',\n",
        "   u'population': 9555893,\n",
        "   u'score': 3,\n",
        "   u'stateCode': u'00'}],\n",
        " u'states': [{u'countryCode': u'SE',\n",
        "   u'featureClass': u'A',\n",
        "   u'featureCode': u'ADM1',\n",
        "   u'id': 2721357,\n",
        "   u'lat': 56.33333,\n",
        "   u'lon': 15.33333,\n",
        "   u'name': u'Blekinge',\n",
        "   u'population': 152315,\n",
        "   u'score': 1,\n",
        "   u'stateCode': u'02'}]}"
       ]
      }
     ],
     "prompt_number": 24
    },
    {
     "cell_type": "markdown",
     "metadata": {},
     "source": [
      "Or we can pare it down even further and just look at the city names:"
     ]
    },
    {
     "cell_type": "code",
     "collapsed": false,
     "input": [
      "for i in t['results']['places']['focus']['cities']:\n",
      "    print i['name']"
     ],
     "language": "python",
     "metadata": {},
     "outputs": [
      {
       "output_type": "stream",
       "stream": "stdout",
       "text": [
        "Karlskrona\n"
       ]
      }
     ],
     "prompt_number": 25
    },
    {
     "cell_type": "heading",
     "level": 3,
     "metadata": {},
     "source": [
      "Multi-sentence example: Syria\n"
     ]
    },
    {
     "cell_type": "markdown",
     "metadata": {},
     "source": [
      "The point of automated geocoding is obviously to do it at scale, perhaps as part of an [event data project](https://github.com/openeventdata). Indeed, the impetus behind getting CLIFF to work was to use it to geocode the event data that the [Open Event Data Alliance](http://openeventdata.org/) is producing, specifically the completely open-source Phoenix data set.\n",
      "\n",
      "Let's take a look at an example a little closer to what we'll be doing with event data, where we'd like to use it to extract the places where events are happening. Our event extraction software, [PETRARCH](https://github.com/openeventdata/petrarch) handles the event extraction, but we will rely on a separate program to figure out the places associated with events in each sentence.\n",
      "\n",
      "Here, I'm giving it a list of sentences from a recent [Reuters story](http://www.reuters.com/article/2014/11/05/us-mideast-crisis-turkey-idUSKBN0IP10B20141105\n",
      ") about Syria. Normally, I would split the paragraph into sentences automatically using CoreNLP's sentence splitter function, but I've done that step by hand here to keep this example light weight. "
     ]
    },
    {
     "cell_type": "code",
     "collapsed": false,
     "input": [
      "paragraph = [\"The United States continued its assault on Islamic State militants this week, conducting 14 airstrikes in recent days in Syria and Iraq, U.S. Central Command said, three of them near the predominantly Kurdish border town of Kobani.\", \"Turkish President Tayyip Erdogan has criticized the U.S.-led coalition's focus on Kobani, which has been besieged by Islamic State for more than a month, and warned its attention needed to be turned to other parts of the conflict.\", \"The Syrian civil war has killed close to 200,000 people and forced more than 3 million refugees to flee the country, according to the United Nations.\", \"At least 11 children were killed in Damascus when mortars fell on a school in an eastern district of the Syrian capital, the Britain-based Syrian Observatory for Human Rights, which monitors the war, said on Wednesday.\",\"The school was in a rebel-held part of Qaboun, a district in the east of the city which is contested between government and rebel forces, the monitoring group said.\",\"The death toll was expected to rise because a number of those wounded were in critical condition, it said.\",\"Fighters linked to al Qaeda also took ground from moderate Syrian rebels last week in the northern province of Idlib, expanding their control.\",\"A member of the Syrian rebel forces based in southeastern Turkey said on Wednesday the Nusra Front had made further gains in recent days.\"]\n",
      "\n",
      "for i in paragraph:\n",
      "    print i\n",
      "    print \"\\n\""
     ],
     "language": "python",
     "metadata": {},
     "outputs": []
    },
    {
     "cell_type": "markdown",
     "metadata": {},
     "source": [
      "I've defined a little function here to construct our request and get the resulting data."
     ]
    },
    {
     "cell_type": "code",
     "collapsed": false,
     "input": [
      "def geolocate(text):\n",
      "    payload = {\"q\":text}\n",
      "    located = requests.get(\"http://localhost:8999/CLIFF-2.0.0/parse/text\", params=payload)\n",
      "    return located.json()"
     ],
     "language": "python",
     "metadata": {},
     "outputs": [
      {
       "output_type": "stream",
       "stream": "stdout",
       "text": [
        "The United States continued its assault on Islamic State militants this week, conducting 14 airstrikes in recent days in Syria and Iraq, U.S. Central Command said, three of them near the predominantly Kurdish border town of Kobani.\n",
        "\n",
        "\n",
        "Turkish President Tayyip Erdogan has criticized the U.S.-led coalition's focus on Kobani, which has been besieged by Islamic State for more than a month, and warned its attention needed to be turned to other parts of the conflict.\n",
        "\n",
        "\n",
        "The Syrian civil war has killed close to 200,000 people and forced more than 3 million refugees to flee the country, according to the United Nations.\n",
        "\n",
        "\n",
        "At least 11 children were killed in Damascus when mortars fell on a school in an eastern district of the Syrian capital, the Britain-based Syrian Observatory for Human Rights, which monitors the war, said on Wednesday.\n",
        "\n",
        "\n",
        "The school was in a rebel-held part of Qaboun, a district in the east of the city which is contested between government and rebel forces, the monitoring group said.\n",
        "\n",
        "\n",
        "The death toll was expected to rise because a number of those wounded were in critical condition, it said.\n",
        "\n",
        "\n",
        "Fighters linked to al Qaeda also took ground from moderate Syrian rebels last week in the northern province of Idlib, expanding their control.\n",
        "\n",
        "\n",
        "A member of the Syrian rebel forces based in southeastern Turkey said on Wednesday the Nusra Front had made further gains in recent days.\n",
        "\n",
        "\n"
       ]
      }
     ],
     "prompt_number": 13
    },
    {
     "cell_type": "code",
     "collapsed": false,
     "input": [
      "for i, sentence in enumerate(paragraph):\n",
      "    p = geolocate(sentence)\n",
      "    num = i\n",
      "    if 'cities' in p['results']['places']['focus']:\n",
      "        for i in p['results']['places']['focus']['cities']:\n",
      "            place = i['name']\n",
      "            lat = i['lat']\n",
      "            lon = i['lon']\n",
      "            print \"Cities in sentence \" + str(num) + \": \" + place + \" (\" + str(lat) + \", \" + str(lon) + \")\"\n"
     ],
     "language": "python",
     "metadata": {},
     "outputs": [
      {
       "output_type": "stream",
       "stream": "stdout",
       "text": [
        "Cities in sentence 0: \u2018Ayn al \u2018Arab (36.89095, 38.35347)\n",
        "Cities in sentence 3: Damascus (33.5102, 36.29128)\n",
        "Cities in sentence 4: Q\u0101b\u016bn (33.54309, 36.33604)"
       ]
      },
      {
       "output_type": "stream",
       "stream": "stdout",
       "text": [
        "\n",
        "Cities in sentence 6: Idlib (35.93062, 36.63393)\n"
       ]
      }
     ],
     "prompt_number": 14
    },
    {
     "cell_type": "markdown",
     "metadata": {},
     "source": [
      "Although the first one doesn't look right (the first sentence [#0] is about Kobani), it turns out that \n",
      "\u2018Ayn al \u2018Arab is actually the same place. ([See it on a map](https://www.google.com/maps/place/Ayn+al-Arab%2FAleppo+Governorate,+Turkey/@36.8897215,38.355556,15z/data=!3m1!4b1!4m7!1m4!3m3!1s0x15315e572c090bcd:0xe533e57bae2a797a!2sUnnamed+Rd,+Kubani,+Syria!3b1!3m1!1s0x15315e570e650e43:0x948999c15c6032ef))."
     ]
    },
    {
     "cell_type": "code",
     "collapsed": false,
     "input": [],
     "language": "python",
     "metadata": {},
     "outputs": []
    },
    {
     "cell_type": "code",
     "collapsed": false,
     "input": [],
     "language": "python",
     "metadata": {},
     "outputs": [],
     "prompt_number": 14
    }
   ],
   "metadata": {}
  }
 ]
}